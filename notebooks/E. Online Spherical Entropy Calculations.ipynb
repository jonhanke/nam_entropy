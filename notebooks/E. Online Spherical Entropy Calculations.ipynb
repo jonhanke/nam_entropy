{
 "cells": [
  {
   "cell_type": "markdown",
   "id": "95c20b53-d6d6-4e5a-9f56-4f0d98bdd42f",
   "metadata": {},
   "source": [
    "# Online Spherical Entropy Calculations -- Demo Notebook"
   ]
  },
  {
   "cell_type": "markdown",
   "id": "90efe318-d233-49be-b901-8fde3a868025",
   "metadata": {},
   "source": [
    "## 0. Setup"
   ]
  },
  {
   "cell_type": "markdown",
   "id": "1103b67f-41a8-4000-b424-25a3b07940da",
   "metadata": {},
   "source": [
    "### 0.1. Imports"
   ]
  },
  {
   "cell_type": "code",
   "execution_count": 1,
   "id": "6cfb1df2-2ca4-4666-a1de-3a74be8a61e0",
   "metadata": {},
   "outputs": [],
   "source": [
    "## Set the PYTHON package path\n",
    "import os, sys\n",
    "package_root = os.path.abspath('../src/')\n",
    "if package_root not in sys.path:\n",
    "    sys.path.insert(0, package_root)\n",
    "\n",
    "#package_root"
   ]
  },
  {
   "cell_type": "code",
   "execution_count": 2,
   "id": "23fe1057-6a40-4d5a-b10f-bb206efa0573",
   "metadata": {},
   "outputs": [],
   "source": [
    "## Import soft entropy calculation routines\n",
    "from nam_entropy import *\n",
    "\n",
    "\n",
    "# Import SciPy distributions\n",
    "from scipy import stats\n",
    "\n",
    "## Import the Pytorch distributions\n",
    "import torch"
   ]
  },
  {
   "cell_type": "code",
   "execution_count": null,
   "id": "f5111295-8dea-4070-be7a-560fac260dbf",
   "metadata": {},
   "outputs": [],
   "source": []
  },
  {
   "cell_type": "markdown",
   "id": "4ef7a9cc-bf79-4a7f-abd8-2e926f4e9820",
   "metadata": {},
   "source": [
    "### 0.2. Fix Randomness"
   ]
  },
  {
   "cell_type": "code",
   "execution_count": 3,
   "id": "90250ab5-c75f-4602-b04b-4e0b69f7fd04",
   "metadata": {},
   "outputs": [
    {
     "name": "stdout",
     "output_type": "stream",
     "text": [
      "All random seeds set to 42 (deterministic mode)\n"
     ]
    }
   ],
   "source": [
    "RANDOM_SEED = 42\n",
    "set_all_random_seeds(RANDOM_SEED)"
   ]
  },
  {
   "cell_type": "code",
   "execution_count": null,
   "id": "28733ac2-244f-4bff-be59-50c4ebd05e33",
   "metadata": {},
   "outputs": [],
   "source": []
  },
  {
   "cell_type": "code",
   "execution_count": null,
   "id": "1479d707-3038-4f20-8e8d-2f522e35862f",
   "metadata": {},
   "outputs": [],
   "source": []
  },
  {
   "cell_type": "markdown",
   "id": "c9937cc3-96fc-4e1a-a276-d78d7b924940",
   "metadata": {},
   "source": [
    "## 1. Create Sample Data"
   ]
  },
  {
   "cell_type": "code",
   "execution_count": 4,
   "id": "942026eb-f534-4b74-ab7c-d1362c38796f",
   "metadata": {},
   "outputs": [],
   "source": [
    "## Define some example SciPy distributions in 2D\n",
    "dist1 = stats.multivariate_normal(mean=[0, 0], cov=[[1, 0], [0, 1]]) # Standard normal\n",
    "dist2 = stats.multivariate_normal(mean=[1.5, 3], cov=[[1, 0.5], [0.5, 1]]) # Different normal with correlations\n",
    "\n",
    "## Define some example PyTorch distributions in 2D\n",
    "from torch.distributions import Uniform\n",
    "dist3 = Uniform(\n",
    "    low=torch.tensor([-2.0, -1.0]),\n",
    "    high=torch.tensor([2.0, 0.0])\n",
    ")\n",
    "\n"
   ]
  },
  {
   "cell_type": "code",
   "execution_count": 5,
   "id": "2ecbbcc1-ce48-46a3-9a4c-c505e3bb2911",
   "metadata": {},
   "outputs": [],
   "source": [
    "## Get some associated sample data from these distributions\n",
    "n_samples_list = [10, 20, 30]\n",
    "distribution_list = [dist1, dist2, dist3]\n",
    "label_list = ['A - Std Normal', 'B - Correlated Normal', 'C - Uniform on [-2, 2] x [-1, 0]']\n",
    "\n",
    "randomized_data_df = \\\n",
    "    make_samples_dataframe_from_distributions(n_samples_list, distribution_list, label_list, \n",
    "                                              label_columns_name = 'label', \n",
    "                                              data_component_name_list=None, \n",
    "                                              randomize_samples = True)\n"
   ]
  },
  {
   "cell_type": "code",
   "execution_count": null,
   "id": "4272b3c9-3eb0-4816-9b38-9eaa44284063",
   "metadata": {},
   "outputs": [],
   "source": []
  },
  {
   "cell_type": "markdown",
   "id": "6f2172a8-9899-4ce0-9736-fda5d96e89e8",
   "metadata": {},
   "source": [
    "## 2. Pytorch Preparation of Sample Data"
   ]
  },
  {
   "cell_type": "code",
   "execution_count": 6,
   "id": "dda92486-b1b1-4767-ae85-d2ca3f6918c2",
   "metadata": {},
   "outputs": [],
   "source": [
    "## Convert the data to PyTorch format\n",
    "index_tensor, data_tensor, label_list, label_list_row_index_lookup_dict = \\\n",
    "    data_df_to_pytorch_data_tensors_and_labels(randomized_data_df)\n"
   ]
  },
  {
   "cell_type": "code",
   "execution_count": null,
   "id": "56eaf364-af7b-4470-996e-00b479cc7f67",
   "metadata": {},
   "outputs": [],
   "source": []
  },
  {
   "cell_type": "markdown",
   "id": "867c38a7-9107-4ebc-8acc-9dd09b9471c4",
   "metadata": {},
   "source": [
    "## 3. Perform Online Entropy Estimation"
   ]
  },
  {
   "cell_type": "markdown",
   "id": "55cfb4ac-8811-4092-85fe-ec376f673235",
   "metadata": {},
   "source": [
    "### 3.0. Set Soft-Binning Parameters"
   ]
  },
  {
   "cell_type": "code",
   "execution_count": 7,
   "id": "0871a699-2fd2-46c5-828e-5bd002891446",
   "metadata": {},
   "outputs": [],
   "source": [
    "## Setup the binning parameters\n",
    "n_bins = 10\n",
    "n_heads = 1  ## NOTE: This needs to be reset from its default value of 4...  probably change this default value to 1!\n",
    "bin_type = \"unit_sphere\"\n",
    "dist_fn = \"cosine\"\n",
    "smoothing_fn = \"softmax\"\n",
    "smoothing_temp = 1.0"
   ]
  },
  {
   "cell_type": "code",
   "execution_count": null,
   "id": "6f81d592-3725-47df-8742-7c7e49788198",
   "metadata": {},
   "outputs": [],
   "source": []
  },
  {
   "cell_type": "markdown",
   "id": "8abf9db6-fdbe-4d80-bd4f-7e213d3b969d",
   "metadata": {},
   "source": [
    "### 3.1. Basic Online Usage - Process Data in Batches\n",
    "\n",
    "Here we split our dataset into batches and process them incrementally,\n",
    "demonstrating that online computation gives the same results as batch computation.\n"
   ]
  },
  {
   "cell_type": "code",
   "execution_count": 8,
   "id": "37d24eee-b78c-4a25-a1da-4a8885521aac",
   "metadata": {},
   "outputs": [
    {
     "name": "stdout",
     "output_type": "stream",
     "text": [
      "Processed batch 1: samples 0 to 20\n",
      "Processed batch 2: samples 20 to 40\n",
      "Processed batch 3: samples 40 to 60\n",
      "\n",
      "=== Online Computation Results ===\n",
      "Total Population Entropy: 2.299374\n",
      "Conditional Entropy (weighted): 2.228843\n",
      "Mutual Information (weighted): 0.070531\n",
      "\n",
      "Entropy by label:\n",
      "  total_population: 2.299374\n",
      "  A - Std Normal: 2.248206\n",
      "  B - Correlated Normal: 2.162937\n",
      "  C - Uniform on [-2, 2] x [-1, 0]: 2.266325\n"
     ]
    }
   ],
   "source": [
    "# Import the EntropyAccumulator\n",
    "from nam_entropy import EntropyAccumulator\n",
    "\n",
    "# Initialize the accumulator with the same parameters we used before\n",
    "# IMPORTANT: We now pass embedding_dim to enable bin pre-computation for data-independent bin types\n",
    "acc = EntropyAccumulator(\n",
    "    n_bins=n_bins,\n",
    "    label_list=label_list,\n",
    "    embedding_dim=data_tensor.shape[1],  # Pass embedding dimension for bin pre-computation\n",
    "    n_heads=n_heads,\n",
    "    dist_fn=dist_fn,\n",
    "    bin_type=bin_type,\n",
    "    smoothing_fn=smoothing_fn,\n",
    "    smoothing_temp=smoothing_temp\n",
    ")\n",
    "\n",
    "# Split our data into 3 batches (we have 60 samples total)\n",
    "batch_size = 20\n",
    "n_samples = data_tensor.shape[0]\n",
    "\n",
    "for i in range(0, n_samples, batch_size):\n",
    "    # Get batch slice\n",
    "    batch_data = data_tensor[i:i+batch_size]\n",
    "    batch_indices = index_tensor[i:i+batch_size]\n",
    "\n",
    "    # Update the accumulator with this batch\n",
    "    acc.update(batch_data, batch_indices)\n",
    "    print(f\"Processed batch {i//batch_size + 1}: samples {i} to {min(i+batch_size, n_samples)}\")\n",
    "\n",
    "# Compute metrics from the accumulated state\n",
    "online_metrics = acc.compute_metrics()\n",
    "\n",
    "print(\"\\n=== Online Computation Results ===\")\n",
    "print(f\"Total Population Entropy: {online_metrics['output_metrics']['entropy']:.6f}\")\n",
    "print(f\"Conditional Entropy (weighted): {online_metrics['output_metrics']['conditional_entropy']:.6f}\")\n",
    "print(f\"Mutual Information (weighted): {online_metrics['output_metrics']['mutual_information']:.6f}\")\n",
    "print(f\"\\nEntropy by label:\")\n",
    "for label, h in online_metrics['output_metrics']['label_entropy_dict'].items():\n",
    "    print(f\"  {label}: {h:.6f}\")\n"
   ]
  },
  {
   "cell_type": "code",
   "execution_count": null,
   "id": "0dd1ce6d-94da-44a4-84fc-a4b6fad3d9f0",
   "metadata": {},
   "outputs": [],
   "source": []
  },
  {
   "cell_type": "markdown",
   "id": "2f72fd25-315f-48c3-aac4-2de4dc12e14b",
   "metadata": {},
   "source": [
    "### 3.2. Compare Online vs Batch Computation \n",
    "\n",
    "Let's verify that online computation gives identical results to batch computation.\n",
    "With the embedding_dim parameter, bins are pre-computed at initialization time,\n",
    "ensuring identical bins for both batch and online computation."
   ]
  },
  {
   "cell_type": "code",
   "execution_count": 9,
   "id": "669001e5-446b-44d3-8d32-eb3473640c2b",
   "metadata": {},
   "outputs": [
    {
     "name": "stdout",
     "output_type": "stream",
     "text": [
      "\n",
      "=== Batch vs Online Comparison ===\n",
      "Total Population Entropy - Batch:  2.299374\n",
      "Total Population Entropy - Online: 2.299374\n",
      "Difference: 0.00e+00\n",
      "\n",
      "Conditional Entropy - Batch:  2.228843\n",
      "Conditional Entropy - Online: 2.228843\n",
      "Difference: 0.00e+00\n",
      "\n",
      "Mutual Information - Batch:  0.070531\n",
      "Mutual Information - Online: 0.070531\n",
      "Difference: 0.00e+00\n"
     ]
    }
   ],
   "source": [
    "# Use the original batch function for comparison\n",
    "# IMPORTANT: Pass the pre-computed bins from the accumulator to ensure identical bins\n",
    "from nam_entropy import compute_all_entropy_measures\n",
    "\n",
    "# Convert bins to match data tensor's dtype and device\n",
    "bins_for_batch = acc.bins.to(dtype=data_tensor.dtype, device=data_tensor.device)\n",
    "\n",
    "batch_metrics = compute_all_entropy_measures(\n",
    "    data_embeddings_tensor=data_tensor,\n",
    "    data_label_indices_tensor=index_tensor,\n",
    "    label_list=label_list,\n",
    "    n_bins=n_bins,\n",
    "    n_heads=n_heads,\n",
    "    dist_fn=dist_fn,\n",
    "    bin_type=bin_type,\n",
    "    smoothing_fn=smoothing_fn,\n",
    "    smoothing_temp=smoothing_temp,\n",
    "    conditional_entropy_label_weighting=\"weighted\",\n",
    "    online_bins=bins_for_batch  # Use the same bins as the online accumulator\n",
    ")\n",
    "\n",
    "print(\"\\n=== Batch vs Online Comparison ===\")\n",
    "print(f\"Total Population Entropy - Batch:  {batch_metrics['output_metrics']['entropy']:.6f}\")\n",
    "print(f\"Total Population Entropy - Online: {online_metrics['output_metrics']['entropy']:.6f}\")\n",
    "print(f\"Difference: {abs(batch_metrics['output_metrics']['entropy'] - online_metrics['output_metrics']['entropy']):.2e}\")\n",
    "\n",
    "print(f\"\\nConditional Entropy - Batch:  {batch_metrics['output_metrics']['conditional_entropy']:.6f}\")\n",
    "print(f\"Conditional Entropy - Online: {online_metrics['output_metrics']['conditional_entropy']:.6f}\")\n",
    "print(f\"Difference: {abs(batch_metrics['output_metrics']['conditional_entropy'] - online_metrics['output_metrics']['conditional_entropy']):.2e}\")\n",
    "\n",
    "print(f\"\\nMutual Information - Batch:  {batch_metrics['output_metrics']['mutual_information']:.6f}\")\n",
    "print(f\"Mutual Information - Online: {online_metrics['output_metrics']['mutual_information']:.6f}\")\n",
    "print(f\"Difference: {abs(batch_metrics['output_metrics']['mutual_information'] - online_metrics['output_metrics']['mutual_information']):.2e}\")\n",
    "\n"
   ]
  },
  {
   "cell_type": "code",
   "execution_count": null,
   "id": "83787ac3-7018-4b1b-9e53-20ae1cf83653",
   "metadata": {},
   "outputs": [],
   "source": []
  },
  {
   "cell_type": "markdown",
   "id": "9daa4c9f-bd65-4a45-9b6f-55663e7361ba",
   "metadata": {},
   "source": [
    "### 3.3. Distributed Computation - Merging Multiple Accumulators\n",
    "\n",
    "This example simulates distributed computation where different workers process\n",
    "different portions of the data, then merge their results.\n",
    "\n",
    "IMPORTANT: All workers must use the same embedding_dim to ensure they all\n",
    "pre-compute identical bins (assuming the same random seed)."
   ]
  },
  {
   "cell_type": "code",
   "execution_count": 10,
   "id": "7efa31b4-5a45-4d99-929d-8f72ff4eeb5f",
   "metadata": {},
   "outputs": [
    {
     "name": "stdout",
     "output_type": "stream",
     "text": [
      "Worker 1 processed 20 samples\n",
      "Worker 2 processed 20 samples\n",
      "Worker 3 processed 20 samples\n",
      "\n",
      "Merging results from all workers...\n",
      "  Merged worker 2 into worker 1\n",
      "  Merged worker 3 into worker 1\n",
      "\n",
      "=== Distributed Computation Results ===\n",
      "Total Population Entropy: 2.299374\n",
      "Conditional Entropy (weighted): 2.228843\n",
      "Mutual Information (weighted): 0.070531\n",
      "\n",
      "=== Verification: Distributed vs Batch ===\n",
      "Total Population Entropy - Batch:       2.299374\n",
      "Total Population Entropy - Distributed: 2.299374\n",
      "Difference: 0.00e+00\n"
     ]
    }
   ],
   "source": [
    "# Simulate 3 workers processing different portions of the data\n",
    "worker_data_splits = [\n",
    "    (data_tensor[0:20], index_tensor[0:20]),    # Worker 1: samples 0-19\n",
    "    (data_tensor[20:40], index_tensor[20:40]),  # Worker 2: samples 20-39\n",
    "    (data_tensor[40:60], index_tensor[40:60])   # Worker 3: samples 40-59\n",
    "]\n",
    "\n",
    "# IMPORTANT: In distributed computing, all workers must share the same bins\n",
    "# We reuse the bins from our original accumulator to ensure consistency\n",
    "shared_bins = acc.bins\n",
    "\n",
    "# Each worker creates and updates its own accumulator\n",
    "# NOTE: We don't pass embedding_dim because we will manually set the bins\n",
    "accumulators = []\n",
    "for worker_id, (worker_data, worker_indices) in enumerate(worker_data_splits):\n",
    "    worker_acc = EntropyAccumulator(\n",
    "        n_bins=n_bins,\n",
    "        label_list=label_list,\n",
    "        # embedding_dim is NOT passed - we'll use shared bins instead\n",
    "        n_heads=n_heads,\n",
    "        dist_fn=dist_fn,\n",
    "        bin_type=bin_type,\n",
    "        smoothing_fn=smoothing_fn,\n",
    "        smoothing_temp=smoothing_temp\n",
    "    )\n",
    "    # Manually set the shared bins for this worker\n",
    "    worker_acc.bins = shared_bins\n",
    "    worker_acc.update(worker_data, worker_indices)\n",
    "    accumulators.append(worker_acc)\n",
    "    print(f\"Worker {worker_id + 1} processed {worker_data.shape[0]} samples\")\n",
    "\n",
    "# Merge all workers' results into the first accumulator\n",
    "print(\"\\nMerging results from all workers...\")\n",
    "for i in range(1, len(accumulators)):\n",
    "    accumulators[0].merge(accumulators[i])\n",
    "    print(f\"  Merged worker {i + 1} into worker 1\")\n",
    "\n",
    "# Compute final metrics from merged accumulator\n",
    "distributed_metrics = accumulators[0].compute_metrics()\n",
    "\n",
    "print(\"\\n=== Distributed Computation Results ===\")\n",
    "print(f\"Total Population Entropy: {distributed_metrics['output_metrics']['entropy']:.6f}\")\n",
    "print(f\"Conditional Entropy (weighted): {distributed_metrics['output_metrics']['conditional_entropy']:.6f}\")\n",
    "print(f\"Mutual Information (weighted): {distributed_metrics['output_metrics']['mutual_information']:.6f}\")\n",
    "\n",
    "print(\"\\n=== Verification: Distributed vs Batch ===\")\n",
    "print(f\"Total Population Entropy - Batch:       {batch_metrics['output_metrics']['entropy']:.6f}\")\n",
    "print(f\"Total Population Entropy - Distributed: {distributed_metrics['output_metrics']['entropy']:.6f}\")\n",
    "print(f\"Difference: {abs(batch_metrics['output_metrics']['entropy'] - distributed_metrics['output_metrics']['entropy']):.2e}\")\n"
   ]
  },
  {
   "cell_type": "code",
   "execution_count": null,
   "id": "90b61348-417b-45a6-b4c2-0330085eb625",
   "metadata": {},
   "outputs": [],
   "source": []
  },
  {
   "cell_type": "markdown",
   "id": "2b2b783f-99de-4e2d-8da3-a0a744f3a2e7",
   "metadata": {},
   "source": [
    "### 3.4. State Serialization - Save and Load Accumulator State\n",
    "\n",
    "This demonstrates saving accumulator state to disk and loading it later,\n",
    "which is useful for checkpointing in long-running distributed computations.\n",
    "\n",
    "Note: The embedding_dim is saved in the state dictionary and restored when\n",
    "loading, ensuring consistent bin handling."
   ]
  },
  {
   "cell_type": "code",
   "execution_count": 11,
   "id": "7bf2e5b2-b6be-418b-be20-225201f4be9e",
   "metadata": {},
   "outputs": [
    {
     "name": "stdout",
     "output_type": "stream",
     "text": [
      "\n",
      "=== State Dictionary Contents ===\n",
      "State dictionary keys: ['n_bins', 'label_list', 'embedding_dim', 'n_heads', 'num_labels', 'dist_fn', 'bin_type', 'smoothing_fn', 'smoothing_temp', 'total_count', 'total_scores_sum', 'label_scores_sum', 'label_counts', 'bins', 'dtype', 'device']\n",
      "Total samples processed: 60\n",
      "Label counts: tensor([10, 20, 30])\n",
      "Embedding dimension: 2\n",
      "Bin type: unit_sphere\n",
      "Number of bins: 10\n",
      "\n",
      "State saved to: ./entropy_accumulator_state.pkl\n",
      "State loaded successfully!\n",
      "\n",
      "=== Verification: Original vs Loaded ===\n",
      "Total Population Entropy - Original: 2.299374\n",
      "Total Population Entropy - Loaded:   2.299374\n",
      "Difference: 0.00e+00\n"
     ]
    }
   ],
   "source": [
    "import pickle\n",
    "import os\n",
    "\n",
    "# Get the state dictionary from our accumulator\n",
    "state_dict = acc.get_state_dict()\n",
    "\n",
    "print(\"\\n=== State Dictionary Contents ===\")\n",
    "print(f\"State dictionary keys: {list(state_dict.keys())}\")\n",
    "print(f\"Total samples processed: {state_dict['total_count']}\")\n",
    "print(f\"Label counts: {state_dict['label_counts']}\")\n",
    "print(f\"Embedding dimension: {state_dict['embedding_dim']}\")\n",
    "print(f\"Bin type: {state_dict['bin_type']}\")\n",
    "print(f\"Number of bins: {state_dict['n_bins']}\")\n",
    "\n",
    "# Save state to file\n",
    "state_file = './entropy_accumulator_state.pkl'\n",
    "with open(state_file, 'wb') as f:\n",
    "  pickle.dump(state_dict, f)\n",
    "print(f\"\\nState saved to: {state_file}\")\n",
    "\n",
    "# Load state from file and create a new accumulator\n",
    "with open(state_file, 'rb') as f:\n",
    "  loaded_state_dict = pickle.load(f)\n",
    "\n",
    "loaded_acc = EntropyAccumulator.from_state_dict(loaded_state_dict)\n",
    "print(f\"State loaded successfully!\")\n",
    "\n",
    "# Verify the loaded accumulator produces same results\n",
    "loaded_metrics = loaded_acc.compute_metrics()\n",
    "\n",
    "print(\"\\n=== Verification: Original vs Loaded ===\")\n",
    "print(f\"Total Population Entropy - Original: {online_metrics['output_metrics']['entropy']:.6f}\")\n",
    "print(f\"Total Population Entropy - Loaded:   {loaded_metrics['output_metrics']['entropy']:.6f}\")\n",
    "print(f\"Difference: {abs(online_metrics['output_metrics']['entropy'] -\n",
    "loaded_metrics['output_metrics']['entropy']):.2e}\")\n"
   ]
  },
  {
   "cell_type": "code",
   "execution_count": null,
   "id": "144229b3-f4b3-4ffb-84e4-a6e1a04b623c",
   "metadata": {},
   "outputs": [],
   "source": []
  },
  {
   "cell_type": "markdown",
   "id": "ffb4c46d-1b88-4a80-91a0-d63991029cc7",
   "metadata": {},
   "source": [
    "### 3.5. Incremental Updates - Adding New Data to Existing Accumulator\n",
    "\n",
    "Demonstrate continuing to add data to a loaded accumulator."
   ]
  },
  {
   "cell_type": "code",
   "execution_count": 12,
   "id": "b672ff67-7c65-4b06-8f81-91fef1411299",
   "metadata": {},
   "outputs": [
    {
     "name": "stdout",
     "output_type": "stream",
     "text": [
      "\n",
      "=== Adding New Data ===\n",
      "Original total samples: 60\n",
      "New samples to add: 30\n",
      "\n",
      "=== Metrics Before Adding New Data ===\n",
      "Total Population Entropy: 2.299374\n",
      "Conditional Entropy (weighted): 2.228843\n",
      "Mutual Information (weighted): 0.070531\n",
      "\n",
      "=== Metrics After Adding New Data ===\n",
      "Updated total samples: 90 (was 60)\n",
      "Total Population Entropy: 2.299337\n",
      "Conditional Entropy (weighted): 2.229109\n",
      "Mutual Information (weighted): 0.070227\n",
      "\n",
      "=== Change in Metrics ===\n",
      "Total Population Entropy change: -0.000037\n",
      "Conditional Entropy change: +0.000267\n",
      "Mutual Information change: -0.000304\n"
     ]
    }
   ],
   "source": [
    "# Generate some new data (10 new samples from each distribution)\n",
    "new_n_samples_list = [10, 10, 10]\n",
    "new_data_df = make_samples_dataframe_from_distributions(\n",
    "    new_n_samples_list,\n",
    "    distribution_list,\n",
    "    label_list,\n",
    "    label_columns_name='label',\n",
    "    randomize_samples=True\n",
    ")\n",
    "\n",
    "# Convert to PyTorch format\n",
    "new_index_tensor, new_data_tensor, _, _ = \\\n",
    "    data_df_to_pytorch_data_tensors_and_labels(new_data_df, label_list=label_list)\n",
    "\n",
    "print(\"\\n=== Adding New Data ===\")\n",
    "# Get the current count from the loaded accumulator before adding new data\n",
    "original_count = loaded_acc.total_count\n",
    "print(f\"Original total samples: {original_count}\")\n",
    "print(f\"New samples to add: {new_data_tensor.shape[0]}\")\n",
    "\n",
    "# Show metrics before adding new data\n",
    "print(f\"\\n=== Metrics Before Adding New Data ===\")\n",
    "print(f\"Total Population Entropy: {loaded_metrics['output_metrics']['entropy']:.6f}\")\n",
    "print(f\"Conditional Entropy (weighted): {loaded_metrics['output_metrics']['conditional_entropy']:.6f}\")\n",
    "print(f\"Mutual Information (weighted): {loaded_metrics['output_metrics']['mutual_information']:.6f}\")\n",
    "\n",
    "# Update the loaded accumulator with new data\n",
    "loaded_acc.update(new_data_tensor, new_index_tensor)\n",
    "\n",
    "# Compute metrics with the expanded dataset\n",
    "expanded_metrics = loaded_acc.compute_metrics()\n",
    "\n",
    "print(f\"\\n=== Metrics After Adding New Data ===\")\n",
    "print(f\"Updated total samples: {loaded_acc.total_count} (was {original_count})\")\n",
    "print(f\"Total Population Entropy: {expanded_metrics['output_metrics']['entropy']:.6f}\")\n",
    "print(f\"Conditional Entropy (weighted): {expanded_metrics['output_metrics']['conditional_entropy']:.6f}\")\n",
    "print(f\"Mutual Information (weighted): {expanded_metrics['output_metrics']['mutual_information']:.6f}\")\n",
    "\n",
    "# Show the change in metrics\n",
    "print(f\"\\n=== Change in Metrics ===\")\n",
    "entropy_change = expanded_metrics['output_metrics']['entropy'] - loaded_metrics['output_metrics']['entropy']\n",
    "cond_entropy_change = expanded_metrics['output_metrics']['conditional_entropy'] - loaded_metrics['output_metrics']['conditional_entropy']\n",
    "mi_change = expanded_metrics['output_metrics']['mutual_information'] - loaded_metrics['output_metrics']['mutual_information']\n",
    "\n",
    "print(f\"Total Population Entropy change: {entropy_change:+.6f}\")\n",
    "print(f\"Conditional Entropy change: {cond_entropy_change:+.6f}\")\n",
    "print(f\"Mutual Information change: {mi_change:+.6f}\")\n",
    "\n",
    "\n"
   ]
  },
  {
   "cell_type": "code",
   "execution_count": null,
   "id": "e00246d9-5e6a-4e2b-b540-ad6c4ecec114",
   "metadata": {},
   "outputs": [],
   "source": []
  },
  {
   "cell_type": "markdown",
   "id": "50232869-1dfb-4a35-9dcb-4474c4ac7973",
   "metadata": {},
   "source": [
    "### 3.6. Comparison Visualization\n",
    "\n",
    "Visualize the probability distributions from online vs batch computation.\n"
   ]
  },
  {
   "cell_type": "code",
   "execution_count": 13,
   "id": "d8c0d3f7-464b-45fe-9ea8-8b71c06cf6f6",
   "metadata": {},
   "outputs": [
    {
     "data": {
      "image/png": "[encoded data removed]",
      "text/plain": [
       "<Figure size 1400x500 with 2 Axes>"
      ]
     },
     "metadata": {},
     "output_type": "display_data"
    },
    {
     "name": "stdout",
     "output_type": "stream",
     "text": [
      "\n",
      "Maximum absolute difference in distributions: 1.39e-17\n"
     ]
    }
   ],
   "source": [
    "import matplotlib.pyplot as plt\n",
    "\n",
    "# Get probability distributions from online accumulator\n",
    "online_total_pop_dist = online_metrics['intermediate_data']['prob_dist_for_total_population_tensor']\n",
    "online_label_dists = online_metrics['intermediate_data']['prob_dist_by_label_tensor']\n",
    "\n",
    "# Get probability distributions from batch computation (already computed in Section 3.2-3.5)\n",
    "batch_total_pop_dist = batch_metrics['intermediate_data']['prob_dist_for_total_population_tensor']\n",
    "batch_label_dists = batch_metrics['intermediate_data']['prob_dist_by_label_tensor']\n",
    "\n",
    "# Plot comparison\n",
    "fig, axes = plt.subplots(1, 2, figsize=(14, 5))\n",
    "\n",
    "# Left plot: Total population distribution comparison\n",
    "axes[0].bar(range(n_bins), batch_total_pop_dist.numpy(), alpha=0.5, label='Batch', width=0.4, align='edge')\n",
    "axes[0].bar([x + 0.4 for x in range(n_bins)], online_total_pop_dist.numpy(), alpha=0.5, label='Online', width=0.4, align='edge')\n",
    "axes[0].set_xlabel('Bin Number')\n",
    "axes[0].set_ylabel('Probability')\n",
    "axes[0].set_title('Total Population Distribution: Batch vs Online')\n",
    "axes[0].legend()\n",
    "axes[0].grid(True, alpha=0.3)\n",
    "\n",
    "# Right plot: Difference between batch and online\n",
    "diff = (batch_total_pop_dist - online_total_pop_dist).numpy()\n",
    "axes[1].bar(range(n_bins), diff)\n",
    "axes[1].set_xlabel('Bin Number')\n",
    "axes[1].set_ylabel('Difference (Batch - Online)')\n",
    "axes[1].set_title('Distribution Difference')\n",
    "axes[1].axhline(y=0, color='r', linestyle='--', alpha=0.5)\n",
    "axes[1].grid(True, alpha=0.3)\n",
    "\n",
    "plt.tight_layout()\n",
    "plt.show()\n",
    "\n",
    "print(f\"\\nMaximum absolute difference in distributions: {abs(diff).max():.2e}\")\n"
   ]
  },
  {
   "cell_type": "code",
   "execution_count": null,
   "id": "de159214-c6b9-41ea-8ebd-2b410e0bb9fb",
   "metadata": {},
   "outputs": [],
   "source": []
  },
  {
   "cell_type": "code",
   "execution_count": null,
   "id": "04fc13c9-2af1-47bb-9c11-63e31144aa1e",
   "metadata": {},
   "outputs": [],
   "source": []
  },
  {
   "cell_type": "markdown",
   "id": "48f3dab3-2c08-4295-b3d1-ff6843fa6559",
   "metadata": {},
   "source": []
  }
 ],
 "metadata": {
  "kernelspec": {
   "display_name": "Python (Poetry - nam_entropy_env)",
   "language": "python",
   "name": "nam_entropy_env"
  },
  "language_info": {
   "codemirror_mode": {
    "name": "ipython",
    "version": 3
   },
   "file_extension": ".py",
   "mimetype": "text/x-python",
   "name": "python",
   "nbconvert_exporter": "python",
   "pygments_lexer": "ipython3",
   "version": "3.13.7"
  }
 },
 "nbformat": 4,
 "nbformat_minor": 5
}
