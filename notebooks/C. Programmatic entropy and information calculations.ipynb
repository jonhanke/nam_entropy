{
 "cells": [
  {
   "cell_type": "markdown",
   "id": "95c20b53-d6d6-4e5a-9f56-4f0d98bdd42f",
   "metadata": {},
   "source": [
    "# Programmatic Entropy and Information Calculations -- Demo Notebook"
   ]
  },
  {
   "cell_type": "markdown",
   "id": "90efe318-d233-49be-b901-8fde3a868025",
   "metadata": {},
   "source": [
    "## 0. Setup"
   ]
  },
  {
   "cell_type": "markdown",
   "id": "11172b7b-69af-4716-9daa-7ca6a124c5ee",
   "metadata": {},
   "source": [
    "### 0.1. Imports"
   ]
  },
  {
   "cell_type": "code",
   "execution_count": 1,
   "id": "6cfb1df2-2ca4-4666-a1de-3a74be8a61e0",
   "metadata": {},
   "outputs": [],
   "source": [
    "## Set the PYTHON package path\n",
    "import os, sys\n",
    "package_root = os.path.abspath('../src/')\n",
    "if package_root not in sys.path:\n",
    "    sys.path.insert(0, package_root)\n",
    "\n",
    "#package_root"
   ]
  },
  {
   "cell_type": "code",
   "execution_count": 2,
   "id": "23fe1057-6a40-4d5a-b10f-bb206efa0573",
   "metadata": {},
   "outputs": [],
   "source": [
    "## Import our data creation / prep routines\n",
    "from nam_entropy.make_data import make_samples_dataframe_from_distributions\n",
    "from nam_entropy.data_prep import data_df_to_pytorch_data_tensors_and_labels\n",
    "\n",
    "## Import soft entropy calculation routines\n",
    "from nam_entropy.h import *\n",
    "\n",
    "## Import visualization routines\n",
    "from nam_entropy.bin_distribution_plots import plot_tensor_bars, get_label_colors, plot_2d_scatter_with_bins, plot_1d_scatter_labeled\n",
    "\n",
    "## Import utility functions\n",
    "from nam_entropy.utils import set_all_random_seeds"
   ]
  },
  {
   "cell_type": "code",
   "execution_count": 3,
   "id": "db8adfc4-2925-4730-a2b5-596531a6afb5",
   "metadata": {},
   "outputs": [],
   "source": [
    "# Import SciPy distributions\n",
    "from scipy import stats\n",
    "\n",
    "## Import the Pytorch distributions\n",
    "import torch"
   ]
  },
  {
   "cell_type": "markdown",
   "id": "fd31b31f-cf2d-4455-832e-a2674b36f915",
   "metadata": {},
   "source": [
    "### 0.2. Fix Randomness"
   ]
  },
  {
   "cell_type": "code",
   "execution_count": 4,
   "id": "e7edaa7a-081f-4dd7-bf5f-845c68e3ba62",
   "metadata": {},
   "outputs": [
    {
     "name": "stdout",
     "output_type": "stream",
     "text": [
      "All random seeds set to 42 (deterministic mode)\n"
     ]
    }
   ],
   "source": [
    "RANDOM_SEED = 42\n",
    "set_all_random_seeds(RANDOM_SEED)"
   ]
  },
  {
   "cell_type": "code",
   "execution_count": null,
   "id": "884773f2-5d28-4b42-99d7-bdaaf095d7f8",
   "metadata": {},
   "outputs": [],
   "source": []
  },
  {
   "cell_type": "markdown",
   "id": "c9937cc3-96fc-4e1a-a276-d78d7b924940",
   "metadata": {},
   "source": [
    "## 1. Create Sample Data"
   ]
  },
  {
   "cell_type": "code",
   "execution_count": 5,
   "id": "942026eb-f534-4b74-ab7c-d1362c38796f",
   "metadata": {},
   "outputs": [],
   "source": [
    "## Define some example SciPy distributions\n",
    "dist1 = stats.norm(loc=0, scale=1)  # Standard normal\n",
    "dist2 = stats.norm(loc=3, scale=1.5)  # Different normal\n",
    "dist3 = stats.uniform(loc=-2, scale=4)  # Uniform distribution\n"
   ]
  },
  {
   "cell_type": "code",
   "execution_count": 6,
   "id": "2ecbbcc1-ce48-46a3-9a4c-c505e3bb2911",
   "metadata": {},
   "outputs": [],
   "source": [
    "## Get some associated sample data from these distributions\n",
    "n_samples_list = [10, 20, 30]\n",
    "distribution_list = [dist1, dist2, dist3]\n",
    "label_list = ['A - Normal(0, 1)', 'B - Normal(3, 1.5)', 'C - Uniform on [-2, 2]']\n",
    "colors, colors_dict = get_label_colors(label_list, colormap='hsv')\n",
    "\n",
    "randomized_data_df = \\\n",
    "    make_samples_dataframe_from_distributions(n_samples_list, distribution_list, label_list, \n",
    "                                              label_columns_name = 'label', \n",
    "                                              data_component_name_list=None, \n",
    "                                              randomize_samples = True)"
   ]
  },
  {
   "cell_type": "code",
   "execution_count": 7,
   "id": "5ef5cf04-f0db-4ef5-b860-3c2877142204",
   "metadata": {},
   "outputs": [],
   "source": [
    "#randomized_data_df.shape"
   ]
  },
  {
   "cell_type": "code",
   "execution_count": 8,
   "id": "dcc7f739-81d8-4c6a-801a-3f89d5b4cd67",
   "metadata": {},
   "outputs": [],
   "source": [
    "#randomized_data_df"
   ]
  },
  {
   "cell_type": "code",
   "execution_count": null,
   "id": "4272b3c9-3eb0-4816-9b38-9eaa44284063",
   "metadata": {},
   "outputs": [],
   "source": []
  },
  {
   "cell_type": "markdown",
   "id": "6f2172a8-9899-4ce0-9736-fda5d96e89e8",
   "metadata": {},
   "source": [
    "## 2. Pytorch Preparation of Sample Data"
   ]
  },
  {
   "cell_type": "code",
   "execution_count": 9,
   "id": "dda92486-b1b1-4767-ae85-d2ca3f6918c2",
   "metadata": {},
   "outputs": [],
   "source": [
    "## Convert the data to PyTorch format\n",
    "index_tensor, data_tensor, label_list, label_list_row_index_lookup_dict = \\\n",
    "    data_df_to_pytorch_data_tensors_and_labels(randomized_data_df)"
   ]
  },
  {
   "cell_type": "code",
   "execution_count": 10,
   "id": "90ed5eb2-eae5-46ce-988c-49396c9ca3f3",
   "metadata": {},
   "outputs": [],
   "source": [
    "#index_tensor.shape"
   ]
  },
  {
   "cell_type": "code",
   "execution_count": 11,
   "id": "a2aa6c47-1eb3-4ee4-8e93-eeebca0aeb07",
   "metadata": {},
   "outputs": [],
   "source": [
    "#index_tensor"
   ]
  },
  {
   "cell_type": "code",
   "execution_count": 12,
   "id": "5f7cd172-06b2-4d7e-a305-5eb126402041",
   "metadata": {},
   "outputs": [],
   "source": [
    "#data_tensor.shape"
   ]
  },
  {
   "cell_type": "code",
   "execution_count": 13,
   "id": "70381e34-47dd-4980-9cf6-ee82ab42d1f6",
   "metadata": {},
   "outputs": [],
   "source": [
    "#data_tensor"
   ]
  },
  {
   "cell_type": "code",
   "execution_count": 14,
   "id": "153ccba7-927b-4d7a-a679-7f10d247444a",
   "metadata": {},
   "outputs": [],
   "source": [
    "#label_list"
   ]
  },
  {
   "cell_type": "code",
   "execution_count": 15,
   "id": "052c3d5c-79bc-4c34-820b-5582be4d750a",
   "metadata": {},
   "outputs": [],
   "source": [
    "#label_list_row_index_lookup_dict"
   ]
  },
  {
   "cell_type": "code",
   "execution_count": null,
   "id": "75dc3395-7e59-460c-ba46-5e83399b133c",
   "metadata": {},
   "outputs": [],
   "source": []
  },
  {
   "cell_type": "markdown",
   "id": "5e280107-d5d5-4919-a233-e3fec9be6318",
   "metadata": {},
   "source": [
    "## 3. Create the associated Soft-binned Probability Distributions"
   ]
  },
  {
   "cell_type": "markdown",
   "id": "8a95d90a-4ff1-4d66-9304-034c9fd301ac",
   "metadata": {},
   "source": [
    "### 3.1. Create the soft-binned probability distributions for each point"
   ]
  },
  {
   "cell_type": "code",
   "execution_count": 16,
   "id": "d42bb516-e93e-464e-96f4-5c09a10a3865",
   "metadata": {},
   "outputs": [
    {
     "data": {
      "text/plain": [
       "torch.Size([60, 1, 10])"
      ]
     },
     "execution_count": 16,
     "metadata": {},
     "output_type": "execute_result"
    }
   ],
   "source": [
    "## Setup the binning parameters for euclidean space distributions\n",
    "n_bins = 10\n",
    "n_heads = 1 \n",
    "bin_type = \"uniform\"\n",
    "dist_fn = \"euclidean\"\n",
    "smoothing_fn = \"softmax\"\n",
    "smoothing_temp = 1.0\n",
    "\n",
    "## Perform the soft-binning\n",
    "tmp_scores, tmp_bins = \\\n",
    "    soft_bin(all_representations = data_tensor, \\\n",
    "             n_bins = n_bins, \\\n",
    "             n_heads = n_heads, \\\n",
    "             bin_type = bin_type, \\\n",
    "             dist_fn = dist_fn, \\\n",
    "             smoothing_fn = smoothing_fn, \n",
    "             smoothing_temp = smoothing_temp)\n",
    "\n",
    "## Show the shape of the final probability distribution tensor -- should be [N, n_heads, n_bins]\n",
    "tmp_scores.shape                                                                  "
   ]
  },
  {
   "cell_type": "code",
   "execution_count": 17,
   "id": "f905e0a7-43ff-4952-971e-777ab370c988",
   "metadata": {},
   "outputs": [],
   "source": [
    "#tmp_scores.shape"
   ]
  },
  {
   "cell_type": "code",
   "execution_count": 18,
   "id": "f54afba6-8ed8-4258-b05c-907571ed57c1",
   "metadata": {},
   "outputs": [],
   "source": [
    "#data_tensor[0]"
   ]
  },
  {
   "cell_type": "code",
   "execution_count": 19,
   "id": "cd96ed90-64fa-4c75-bda4-857fec321583",
   "metadata": {},
   "outputs": [
    {
     "data": {
      "text/plain": [
       "torch.Size([60, 10])"
      ]
     },
     "execution_count": 19,
     "metadata": {},
     "output_type": "execute_result"
    }
   ],
   "source": [
    "## Get the data tensor with no extra n_heads variable\n",
    "tmp_scores__no_heads = tmp_scores.squeeze(1)\n",
    "tmp_scores__no_heads.shape"
   ]
  },
  {
   "cell_type": "code",
   "execution_count": 20,
   "id": "84d52031-c162-4fcf-8a97-702fee83b91f",
   "metadata": {},
   "outputs": [
    {
     "data": {
      "text/plain": [
       "tensor([[[-2.0629]],\n",
       "\n",
       "        [[-2.0179]],\n",
       "\n",
       "        [[-1.4444]],\n",
       "\n",
       "        [[-2.1156]],\n",
       "\n",
       "        [[ 2.3607]],\n",
       "\n",
       "        [[ 1.8939]],\n",
       "\n",
       "        [[ 6.4161]],\n",
       "\n",
       "        [[ 6.1658]],\n",
       "\n",
       "        [[-1.8229]],\n",
       "\n",
       "        [[-1.3589]]], dtype=torch.float64)"
      ]
     },
     "execution_count": 20,
     "metadata": {},
     "output_type": "execute_result"
    }
   ],
   "source": [
    "tmp_bins"
   ]
  },
  {
   "cell_type": "code",
   "execution_count": null,
   "id": "ebc752ae-790a-49d5-86a4-f5f934088775",
   "metadata": {},
   "outputs": [],
   "source": []
  },
  {
   "cell_type": "markdown",
   "id": "c22b5a59-304c-4650-9b0b-33527c994fc4",
   "metadata": {},
   "source": [
    "### 3.2. Create the probability distribution for the total population (all labels together)"
   ]
  },
  {
   "cell_type": "code",
   "execution_count": 21,
   "id": "2f18ede7-1ee1-40c7-9aae-08dbb9e4f983",
   "metadata": {},
   "outputs": [],
   "source": [
    "## Compute the sum of all soft-binned probability distibutions\n",
    "prob_dist_sum_tensor = tmp_scores__no_heads.sum(0)"
   ]
  },
  {
   "cell_type": "code",
   "execution_count": 22,
   "id": "18283512-f1f8-409a-b199-0430d2f1973b",
   "metadata": {},
   "outputs": [
    {
     "data": {
      "text/plain": [
       "torch.Size([10])"
      ]
     },
     "execution_count": 22,
     "metadata": {},
     "output_type": "execute_result"
    }
   ],
   "source": [
    "prob_dist_sum_tensor.shape"
   ]
  },
  {
   "cell_type": "code",
   "execution_count": 23,
   "id": "1ee1f5c2-3ef1-4086-acb3-a2450f745c20",
   "metadata": {},
   "outputs": [],
   "source": [
    "## Compute the total population probability vector\n",
    "prob_dist_for_total_population_tensor = prob_dist_sum_tensor / tmp_scores__no_heads.shape[0]"
   ]
  },
  {
   "cell_type": "code",
   "execution_count": 24,
   "id": "6dfa5cc2-c5e7-4a61-b2ae-1037223071a2",
   "metadata": {},
   "outputs": [
    {
     "data": {
      "text/plain": [
       "tensor(1., dtype=torch.float64)"
      ]
     },
     "execution_count": 24,
     "metadata": {},
     "output_type": "execute_result"
    }
   ],
   "source": [
    "## Check that this is a probability vector\n",
    "prob_dist_for_total_population_tensor.sum()"
   ]
  },
  {
   "cell_type": "code",
   "execution_count": 25,
   "id": "23cd51e9-c00f-4433-aee2-a188699e6d5b",
   "metadata": {},
   "outputs": [
    {
     "data": {
      "text/plain": [
       "torch.Size([10])"
      ]
     },
     "execution_count": 25,
     "metadata": {},
     "output_type": "execute_result"
    }
   ],
   "source": [
    "## Check its shape\n",
    "prob_dist_for_total_population_tensor.shape"
   ]
  },
  {
   "cell_type": "code",
   "execution_count": 26,
   "id": "eeca24b3-f1b6-4d42-b61d-d8dde0c431be",
   "metadata": {},
   "outputs": [
    {
     "data": {
      "text/plain": [
       "tensor([0.0660, 0.0688, 0.1079, 0.0630, 0.2051, 0.2374, 0.0264, 0.0293, 0.0812,\n",
       "        0.1149], dtype=torch.float64)"
      ]
     },
     "execution_count": 26,
     "metadata": {},
     "output_type": "execute_result"
    }
   ],
   "source": [
    "## Check its values\n",
    "prob_dist_for_total_population_tensor"
   ]
  },
  {
   "cell_type": "code",
   "execution_count": null,
   "id": "f51e3825-0a54-42b9-ba41-3f2b7fcbbee6",
   "metadata": {},
   "outputs": [],
   "source": []
  },
  {
   "cell_type": "code",
   "execution_count": null,
   "id": "87046ccc-5e5b-4bce-91db-a0f6c684fa59",
   "metadata": {},
   "outputs": [],
   "source": []
  },
  {
   "cell_type": "markdown",
   "id": "a2e7715c-637f-42aa-9740-1df7c655c828",
   "metadata": {},
   "source": [
    "### 3.3. Create the probability distributions for each population label"
   ]
  },
  {
   "cell_type": "code",
   "execution_count": 27,
   "id": "d4fc841e-3ad4-4e07-b49e-50cfa4d5b96a",
   "metadata": {},
   "outputs": [
    {
     "data": {
      "text/plain": [
       "torch.Size([3, 10])"
      ]
     },
     "execution_count": 27,
     "metadata": {},
     "output_type": "execute_result"
    }
   ],
   "source": [
    "## Prepare to compute the index sum\n",
    "num_samples = index_tensor.shape[0]  ## also data_tensor.shape[0]\n",
    "n_bins = tmp_scores.shape[-1]  ## prob_dist_num_of_points\n",
    "num_labels = len(label_list)\n",
    "\n",
    "## Get the data tensor with no extra n_heads variable\n",
    "tmp_scores__no_heads = tmp_scores.squeeze(1)\n",
    "\n",
    "## Compute the sum of the soft-binned probability distributions for each label\n",
    "label_prob_dist_sum_tensor = torch.zeros(num_labels, n_bins, dtype = tmp_scores__no_heads.dtype)\n",
    "label_prob_dist_sum_tensor = label_prob_dist_sum_tensor.index_add(dim=0, source=tmp_scores__no_heads, index=index_tensor)\n",
    "\n",
    "\n",
    "label_prob_dist_sum_tensor.shape\n"
   ]
  },
  {
   "cell_type": "code",
   "execution_count": 28,
   "id": "ca6bedf3-c8b7-4afd-a558-951951780a26",
   "metadata": {},
   "outputs": [],
   "source": [
    "#label_prob_dist_sum_tensor"
   ]
  },
  {
   "cell_type": "code",
   "execution_count": 29,
   "id": "74269138-d26f-4441-bf4d-12af5b80e133",
   "metadata": {},
   "outputs": [],
   "source": [
    "## Check the sum over the columns agree with the number of samples per label -- yes! =)\n",
    "#label_prob_dist_sum_tensor.sum(1)"
   ]
  },
  {
   "cell_type": "code",
   "execution_count": null,
   "id": "c1742cf9-427c-4340-ae3e-05b55f7c439a",
   "metadata": {},
   "outputs": [],
   "source": []
  },
  {
   "cell_type": "code",
   "execution_count": 30,
   "id": "f6a5e556-ab66-44a3-96a5-5c9e331f9f85",
   "metadata": {},
   "outputs": [],
   "source": [
    "## Determine the label counts (i.e. the number of samples for each label)\n",
    "label_counts_tensor = torch.bincount(index_tensor)\n",
    "\n",
    "## Divide by the label counts to get the probability distributions of each label as a row\n",
    "label_prob_dist_avg_tensor = label_prob_dist_sum_tensor / label_counts_tensor.unsqueeze(1)\n",
    "\n",
    "## Define the probability distributions for each label\n",
    "prob_dist_by_label_tensor = label_prob_dist_avg_tensor"
   ]
  },
  {
   "cell_type": "code",
   "execution_count": 31,
   "id": "9e8bf384-019a-4e1e-b744-77f4b8d35dc4",
   "metadata": {},
   "outputs": [],
   "source": [
    "## Check that the average again is a probability distribution\n",
    "#prob_dist_by_label_tensor.sum(1)"
   ]
  },
  {
   "cell_type": "code",
   "execution_count": null,
   "id": "76c7e4d6-9590-467d-80a8-b6a936f1b929",
   "metadata": {},
   "outputs": [],
   "source": []
  },
  {
   "cell_type": "markdown",
   "id": "abd55478-7805-4daa-8b95-d033bfad513c",
   "metadata": {},
   "source": [
    "### 3.4. Determine the probability distribution of labels -- for later use in conditional entropy calculation"
   ]
  },
  {
   "cell_type": "code",
   "execution_count": 32,
   "id": "5722866a-7b0d-439a-a26e-641085665c21",
   "metadata": {},
   "outputs": [
    {
     "data": {
      "text/plain": [
       "torch.Size([3])"
      ]
     },
     "execution_count": 32,
     "metadata": {},
     "output_type": "execute_result"
    }
   ],
   "source": [
    "## Compute the probabilities of the labels\n",
    "distribution_of_labels = (index_tensor.bincount() / index_tensor.shape[0]).to(torch.float64)\n",
    "\n",
    "distribution_of_labels.shape"
   ]
  },
  {
   "cell_type": "code",
   "execution_count": 33,
   "id": "f1136c1d-0458-4301-a466-dc4ffc0da0c5",
   "metadata": {},
   "outputs": [],
   "source": [
    "#distribution_of_labels"
   ]
  },
  {
   "cell_type": "code",
   "execution_count": null,
   "id": "22f50a6d-8df5-411a-b4e9-915c40c2dc59",
   "metadata": {},
   "outputs": [],
   "source": []
  },
  {
   "cell_type": "markdown",
   "id": "9b8ad9e1-d0e4-4beb-ae94-d73e50ebf43b",
   "metadata": {},
   "source": [
    "### 3.5. Visualize the probability distributions"
   ]
  },
  {
   "cell_type": "markdown",
   "id": "0b74f077-05c8-4e8e-adb4-1336cc198d10",
   "metadata": {},
   "source": [
    "### 3.5.1. Check the probability tensors we're given"
   ]
  },
  {
   "cell_type": "code",
   "execution_count": 34,
   "id": "8e069861-7798-442c-8989-1457b29cb1d3",
   "metadata": {},
   "outputs": [],
   "source": [
    "#prob_dist_for_total_population_tensor"
   ]
  },
  {
   "cell_type": "code",
   "execution_count": 35,
   "id": "6909d235-3de9-45ab-8417-36d77949822f",
   "metadata": {},
   "outputs": [],
   "source": [
    "#prob_dist_by_label_tensor"
   ]
  },
  {
   "cell_type": "code",
   "execution_count": null,
   "id": "5a9d8f8d-0cb4-4cbf-b44b-30cef0860a73",
   "metadata": {},
   "outputs": [],
   "source": []
  },
  {
   "cell_type": "markdown",
   "id": "dd7fe7af-fe0f-4e49-bbc4-1bd12a885dc8",
   "metadata": {},
   "source": [
    "### 3.5.2. Visualize the data distribution and bins"
   ]
  },
  {
   "cell_type": "code",
   "execution_count": 36,
   "id": "7bc0ba77-3933-4126-8132-cdfd30fb70dc",
   "metadata": {},
   "outputs": [
    {
     "data": {
      "image/png": "[encoded data removed]",
      "text/plain": [
       "<Figure size 1200x300 with 1 Axes>"
      ]
     },
     "metadata": {},
     "output_type": "display_data"
    }
   ],
   "source": [
    "fig, ax = plot_1d_scatter_labeled(\n",
    "    data_tensor=data_tensor,\n",
    "    index_tensor=index_tensor,\n",
    "    label_list=label_list,\n",
    "    bins=tmp_bins.squeeze(1,2),\n",
    "    title='Scatter Plot for Labeled Data and Number-labeled Soft-binning points',\n",
    "    xlabel='Data values',\n",
    "    ylabel='Population Labels',\n",
    "    label_colors=colors,\n",
    "    bin_line_color='purple',\n",
    "    figsize=(12, 3),\n",
    ")"
   ]
  },
  {
   "cell_type": "code",
   "execution_count": null,
   "id": "f88abb89-3ac4-4db5-bcb1-55d6a6a08922",
   "metadata": {},
   "outputs": [],
   "source": []
  },
  {
   "cell_type": "markdown",
   "id": "adb6062b-3e02-49fb-a970-cabd445730c7",
   "metadata": {},
   "source": [
    "### 3.5.3. Define the barplot routine to visualize the probability tensor\n"
   ]
  },
  {
   "cell_type": "code",
   "execution_count": 37,
   "id": "e63111d4-1b98-4d2b-ac50-4798c12c5e15",
   "metadata": {},
   "outputs": [
    {
     "data": {
      "image/png": "[encoded data removed]",
      "text/plain": [
       "<Figure size 1000x600 with 1 Axes>"
      ]
     },
     "metadata": {},
     "output_type": "display_data"
    }
   ],
   "source": [
    "## Make the display tensor and labels\n",
    "display_label_list = label_list + ['Total population']\n",
    "display_tensor = torch.cat([prob_dist_by_label_tensor, prob_dist_for_total_population_tensor.unsqueeze(0)], dim=0)\n",
    "display_colors = colors + [(0.2, 0.2, 0.2, 0.2)]  # Dark Grey for total\n",
    "\n",
    "## Plot the soft-binned probability distributions for each of the labels and also for the total population\n",
    "plot_tensor_bars(display_tensor, title='Soft-binned Probability Distributions by label', \n",
    "                 separate_plots=False, labels=display_label_list, xlabel=\"Bin Number\", start_index=1, \n",
    "                 row_colors=display_colors)"
   ]
  },
  {
   "cell_type": "code",
   "execution_count": null,
   "id": "fecfdcbb-640a-4d73-9e82-a07f3bd0df6a",
   "metadata": {},
   "outputs": [],
   "source": []
  },
  {
   "cell_type": "markdown",
   "id": "96a95177-6c5e-4111-9673-50e1daa81d0e",
   "metadata": {},
   "source": [
    "## 4. Compute Entropy for each population label"
   ]
  },
  {
   "cell_type": "code",
   "execution_count": 38,
   "id": "ce97051e-2333-419a-abbc-22196e9bf2ed",
   "metadata": {},
   "outputs": [
    {
     "data": {
      "text/plain": [
       "tensor(2.0962, dtype=torch.float64)"
      ]
     },
     "execution_count": 38,
     "metadata": {},
     "output_type": "execute_result"
    }
   ],
   "source": [
    "## Compute the entropy for the total population\n",
    "total_population_entropy = entropy(prob_dist_for_total_population_tensor)\n",
    "total_population_entropy"
   ]
  },
  {
   "cell_type": "code",
   "execution_count": null,
   "id": "d549cbc8-d605-45f2-a137-a8cd81e8bb4a",
   "metadata": {},
   "outputs": [],
   "source": []
  },
  {
   "cell_type": "code",
   "execution_count": 39,
   "id": "51218b8d-9fe0-46fd-84f8-a53e113cf35b",
   "metadata": {},
   "outputs": [
    {
     "data": {
      "text/plain": [
       "tensor([2.0656, 1.6082, 2.0588], dtype=torch.float64)"
      ]
     },
     "execution_count": 39,
     "metadata": {},
     "output_type": "execute_result"
    }
   ],
   "source": [
    "## Compute the entropy for each label\n",
    "entropy_by_label_tensor = entropy(prob_dist_by_label_tensor)\n",
    "entropy_by_label_tensor"
   ]
  },
  {
   "cell_type": "code",
   "execution_count": 40,
   "id": "e69d8387-c80c-4d12-8ada-cb32711f7238",
   "metadata": {},
   "outputs": [
    {
     "data": {
      "text/plain": [
       "{'total_population': 2.0961870810640466,\n",
       " 'A - Normal(0, 1)': 2.065553040864164,\n",
       " 'B - Normal(3, 1.5)': 1.6082117712440878,\n",
       " 'C - Uniform on [-2, 2]': 2.058833775937941}"
      ]
     },
     "execution_count": 40,
     "metadata": {},
     "output_type": "execute_result"
    }
   ],
   "source": [
    "## Store the entropies in a dictionary for easy reference\n",
    "entropy_dict = {\n",
    "    'total_population': total_population_entropy.item()\n",
    "}\n",
    "for i, label in enumerate(label_list):\n",
    "    entropy_dict[label] = entropy_by_label_tensor[i].item()\n",
    "\n",
    "## Display the dictionary\n",
    "entropy_dict"
   ]
  },
  {
   "cell_type": "code",
   "execution_count": null,
   "id": "98fd8136-3be3-424a-88f4-383243b9dfe4",
   "metadata": {},
   "outputs": [],
   "source": []
  },
  {
   "cell_type": "code",
   "execution_count": null,
   "id": "454788ee-5431-4b97-a7e1-8b1b9831729f",
   "metadata": {},
   "outputs": [],
   "source": []
  },
  {
   "cell_type": "markdown",
   "id": "8ef822dc-b9fe-4d4d-968a-711ae31c509b",
   "metadata": {},
   "source": [
    "## 5. Compute the Conditional Entropy -- for the sample population $Z$ given its label $L$\n",
    "**Note:** \n",
    "We compute the conditional entropies $H(Z|L)$,\n",
    "where $Z$ is the total population and $L$ is the categorical label variable. \n",
    "\n",
    "We use the formula\n",
    "\n",
    "$H(Z|L) = \\sum_{l \\in L} p(l) H(Z|L=l)$\n",
    "\n",
    "where \n",
    "\n",
    "$H(Z|L=l) = -\\sum_{z \\in Z} p(z|l) \\log p(z|l)$\n",
    "\n",
    "Here we define\n",
    "- $Z$ := Population data distribution (continuous vector-valued RV)\n",
    "- $L$ := Sub-population label (categorical RV)\n",
    "\n",
    "[https://en.wikipedia.org/wiki/Conditional_entropy](https://en.wikipedia.org/wiki/Conditional_entropy)"
   ]
  },
  {
   "cell_type": "code",
   "execution_count": 41,
   "id": "4a36e166-c74e-4805-afb4-75e452ec0426",
   "metadata": {},
   "outputs": [
    {
     "data": {
      "text/plain": [
       "1.9097463447635552"
      ]
     },
     "execution_count": 41,
     "metadata": {},
     "output_type": "execute_result"
    }
   ],
   "source": [
    "## Let's compute the conditional entropies for the population given the categorical label\n",
    "conditional_entropy_of_population_given_the_label = torch.dot(distribution_of_labels, entropy_by_label_tensor).item()\n",
    "conditional_entropy_of_population_given_the_label"
   ]
  },
  {
   "cell_type": "code",
   "execution_count": null,
   "id": "e7b99e5d-ae42-494b-abc8-0c90f1a8a7b1",
   "metadata": {},
   "outputs": [],
   "source": []
  },
  {
   "cell_type": "code",
   "execution_count": null,
   "id": "6978030f-4dc5-4bea-9e2d-b7230ce1a41a",
   "metadata": {},
   "outputs": [],
   "source": []
  },
  {
   "cell_type": "markdown",
   "id": "1b77a78c-fbdf-4fe7-b803-7646e3342b96",
   "metadata": {},
   "source": [
    "## 6. Compute Mutual Information between the total population RV and the label RV\n",
    "By definition, the __mutual information__ ${\\displaystyle \\operatorname {I} (Z, L)}$ of the two random variables $Z$ and $L$ is given by\n",
    "\n",
    "${\\displaystyle \\operatorname {I} (Z, L) := \\mathrm {H} (Z) - \\mathrm {H} (Z|L)\\,}$\n",
    "\n",
    "and we define \n",
    "- $Z$ := Population data distribution (continuous vector-valued RV)\n",
    "- $L$ := Sub-population label (categorical RV)"
   ]
  },
  {
   "cell_type": "code",
   "execution_count": 42,
   "id": "b760d345-ebab-468b-ae73-a7e593e75cc0",
   "metadata": {},
   "outputs": [
    {
     "data": {
      "text/plain": [
       "0.1864407363004914"
      ]
     },
     "execution_count": 42,
     "metadata": {},
     "output_type": "execute_result"
    }
   ],
   "source": [
    "## Check: This is non-negative -- as it's supposed to be!\n",
    "mutual_information = entropy_dict['total_population'] - conditional_entropy_of_population_given_the_label\n",
    "mutual_information"
   ]
  },
  {
   "cell_type": "code",
   "execution_count": null,
   "id": "e0e4c41a-2ed3-4fae-986c-8810185064fc",
   "metadata": {},
   "outputs": [],
   "source": []
  },
  {
   "cell_type": "markdown",
   "id": "58e5ee7b-8e35-46ba-bf9a-9337e2d59756",
   "metadata": {},
   "source": [
    "### Entropy Summmary:"
   ]
  },
  {
   "cell_type": "code",
   "execution_count": 43,
   "id": "916574e5-0a88-4eb4-9987-481b0b792ede",
   "metadata": {},
   "outputs": [
    {
     "data": {
      "text/plain": [
       "2.0961870810640466"
      ]
     },
     "execution_count": 43,
     "metadata": {},
     "output_type": "execute_result"
    }
   ],
   "source": [
    "entropy_dict['total_population']"
   ]
  },
  {
   "cell_type": "code",
   "execution_count": 44,
   "id": "55803ef5-f402-4189-b8b3-0b8b74c6b87c",
   "metadata": {},
   "outputs": [
    {
     "data": {
      "text/plain": [
       "1.9097463447635552"
      ]
     },
     "execution_count": 44,
     "metadata": {},
     "output_type": "execute_result"
    }
   ],
   "source": [
    "conditional_entropy_of_population_given_the_label"
   ]
  },
  {
   "cell_type": "code",
   "execution_count": 45,
   "id": "e25844e5-4597-4d89-a9f5-da5a59932555",
   "metadata": {},
   "outputs": [
    {
     "data": {
      "text/plain": [
       "0.1864407363004914"
      ]
     },
     "execution_count": 45,
     "metadata": {},
     "output_type": "execute_result"
    }
   ],
   "source": [
    "mutual_information"
   ]
  },
  {
   "cell_type": "code",
   "execution_count": null,
   "id": "299c26ca-9cf2-4627-9901-f9ee9da34b58",
   "metadata": {},
   "outputs": [],
   "source": []
  },
  {
   "cell_type": "code",
   "execution_count": null,
   "id": "97adda65-ba88-414d-91a6-7f5ac8d975c5",
   "metadata": {},
   "outputs": [],
   "source": []
  },
  {
   "cell_type": "code",
   "execution_count": null,
   "id": "b8bdfef8-15c0-4ba7-9bab-d30af88f9fb8",
   "metadata": {},
   "outputs": [],
   "source": []
  }
 ],
 "metadata": {
  "kernelspec": {
   "display_name": "Python (Poetry - nam_entropy_env)",
   "language": "python",
   "name": "nam_entropy_env"
  },
  "language_info": {
   "codemirror_mode": {
    "name": "ipython",
    "version": 3
   },
   "file_extension": ".py",
   "mimetype": "text/x-python",
   "name": "python",
   "nbconvert_exporter": "python",
   "pygments_lexer": "ipython3",
   "version": "3.13.7"
  }
 },
 "nbformat": 4,
 "nbformat_minor": 5
}
