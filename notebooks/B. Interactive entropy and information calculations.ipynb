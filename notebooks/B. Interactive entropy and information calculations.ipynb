{
 "cells": [
  {
   "cell_type": "markdown",
   "id": "95c20b53-d6d6-4e5a-9f56-4f0d98bdd42f",
   "metadata": {},
   "source": [
    "# Interactive entropy and information calculations -- Demo Notebook"
   ]
  },
  {
   "cell_type": "markdown",
   "id": "7e429a71-6229-4100-98ec-db298387f9f5",
   "metadata": {},
   "source": [
    "## Outline\n",
    "\n",
    "0. Imports\n",
    "1. Create Data via Interactive Interface\n",
    "2. Perform soft-binning and entropy / information calculations"
   ]
  },
  {
   "cell_type": "code",
   "execution_count": null,
   "id": "162d7ec6-e592-4c34-b0ba-7c2e23c6029c",
   "metadata": {},
   "outputs": [],
   "source": []
  },
  {
   "cell_type": "markdown",
   "id": "857cfc39-fbb7-4e48-a3ec-d2d35ccd0be1",
   "metadata": {},
   "source": [
    "## 0. Imports"
   ]
  },
  {
   "cell_type": "code",
   "execution_count": 1,
   "id": "4b51a137-f948-4a7c-bd5d-0ce47c4e09e1",
   "metadata": {},
   "outputs": [],
   "source": [
    "## Set the PYTHON package path\n",
    "import os, sys\n",
    "package_root = os.path.abspath('../src/')\n",
    "if package_root not in sys.path:\n",
    "    sys.path.insert(0, package_root)\n",
    "\n",
    "#package_root"
   ]
  },
  {
   "cell_type": "code",
   "execution_count": 2,
   "id": "8ec5b5cd-f6af-45ce-af3b-a2d6685f42bb",
   "metadata": {},
   "outputs": [],
   "source": [
    "## Import all routines from the new_working_codebase/__init__.py file\n",
    "from nam_entropy import *"
   ]
  },
  {
   "cell_type": "code",
   "execution_count": null,
   "id": "71b31102-6c26-44cf-95f7-41bbab140e02",
   "metadata": {},
   "outputs": [],
   "source": []
  },
  {
   "cell_type": "markdown",
   "id": "6c9f9a18-ea16-4a87-8677-96a40c4786bb",
   "metadata": {},
   "source": [
    "## 1. Create Data via Interactive Interface "
   ]
  },
  {
   "cell_type": "code",
   "execution_count": 3,
   "id": "946f76cc-a706-4570-81cf-2209e8a654fa",
   "metadata": {},
   "outputs": [
    {
     "data": {
      "application/vnd.jupyter.widget-view+json": {
       "model_id": "2cfeea27916b4ce482c7a8d83977bcf9",
       "version_major": 2,
       "version_minor": 0
      },
      "text/plain": [
       "VBox(children=(VBox(children=(HTML(value=\"<h3 style='text-align: center; color: #333;'>Integrated 2D Distribut…"
      ]
     },
     "metadata": {},
     "output_type": "display_data"
    }
   ],
   "source": [
    "sampler = SimpleDistribution2DSampler(save_path=\"./my_2d_samples.csv\")\n",
    "sampler.display()"
   ]
  },
  {
   "cell_type": "code",
   "execution_count": 5,
   "id": "b787960a-fdda-4176-8c49-960c2817b6a3",
   "metadata": {},
   "outputs": [],
   "source": [
    "## Get the 2D sampler settings and data\n",
    "settings_with_data = sampler.get_all_settings(include_data=True)\n",
    "\n",
    "## Extract the Pytorch data\n",
    "pytorch_sample_data_dict = settings_with_data['data']['pytorch_data']\n",
    "\n",
    "## Alias the relevant variables\n",
    "index_tensor = pytorch_sample_data_dict['index_tensor']\n",
    "data_tensor = pytorch_sample_data_dict['data_tensor']\n",
    "label_list = pytorch_sample_data_dict['label_list']\n",
    "label_to_label_index_dict = pytorch_sample_data_dict['label_to_label_index_dict']"
   ]
  },
  {
   "cell_type": "code",
   "execution_count": null,
   "id": "609fdadd-7c92-4a78-97a8-a65d1fa3ce78",
   "metadata": {},
   "outputs": [],
   "source": []
  },
  {
   "cell_type": "markdown",
   "id": "46acd5ce-35b9-4358-8778-25918fc47593",
   "metadata": {},
   "source": [
    "## 2. Perform soft-binning and entropy / information calculations"
   ]
  },
  {
   "cell_type": "markdown",
   "id": "27b5fab4-590e-407c-84ad-63cd5e8105df",
   "metadata": {},
   "source": [
    "### 2.1. Run all computations"
   ]
  },
  {
   "cell_type": "code",
   "execution_count": 6,
   "id": "1a9869f8-4e2a-4578-9082-56b834112c85",
   "metadata": {},
   "outputs": [],
   "source": [
    "## Compute the entropies and mutual information\n",
    "output_dict = \\\n",
    "    compute_all_entropy_measures(data_embeddings_tensor=data_tensor, data_label_indices_tensor=index_tensor, label_list=label_list)\n"
   ]
  },
  {
   "cell_type": "code",
   "execution_count": 7,
   "id": "d3a4fd76-438e-460d-8e62-1084bd404138",
   "metadata": {},
   "outputs": [],
   "source": [
    "#output_dict.keys()"
   ]
  },
  {
   "cell_type": "code",
   "execution_count": 8,
   "id": "9748ccc0-32a6-4086-8f39-591be62a4d98",
   "metadata": {},
   "outputs": [],
   "source": [
    "#output_dict['intermediate_data'].keys()"
   ]
  },
  {
   "cell_type": "code",
   "execution_count": 9,
   "id": "9889626d-4bd4-4deb-80bf-f42f428ac46a",
   "metadata": {},
   "outputs": [],
   "source": [
    "#output_dict['output_metrics'].keys()"
   ]
  },
  {
   "cell_type": "code",
   "execution_count": 10,
   "id": "bbdebedd-c2cb-4286-98cb-23f828c2b896",
   "metadata": {},
   "outputs": [
    {
     "data": {
      "text/plain": [
       "{'entropy': 2.301698684692383,\n",
       " 'conditional_entropy': 2.296665906906128,\n",
       " 'mutual_information': 0.005032777786254883}"
      ]
     },
     "execution_count": 10,
     "metadata": {},
     "output_type": "execute_result"
    }
   ],
   "source": [
    "output_dict['output_metrics']"
   ]
  },
  {
   "cell_type": "code",
   "execution_count": null,
   "id": "e8d1e0fc-de98-44fd-990f-ec585dcd33a3",
   "metadata": {},
   "outputs": [],
   "source": []
  },
  {
   "cell_type": "markdown",
   "id": "faf34f1f-f912-4727-97b2-60bf72cf7d19",
   "metadata": {},
   "source": [
    "### 2.2. Get the bins and probability distributions out from the entropy calculations"
   ]
  },
  {
   "cell_type": "code",
   "execution_count": 11,
   "id": "44dd0980-b722-4091-b47d-3e1da04e5663",
   "metadata": {},
   "outputs": [],
   "source": [
    "## Extract the intermediate data from the entropy calculation\n",
    "intermediate_data_dict = output_dict['intermediate_data']\n",
    "prob_dist_for_total_population_tensor = intermediate_data_dict['prob_dist_for_total_population_tensor']\n",
    "prob_dist_by_label_tensor = intermediate_data_dict['prob_dist_by_label_tensor']\n"
   ]
  },
  {
   "cell_type": "code",
   "execution_count": 12,
   "id": "d130614f-114a-45ba-81ee-6f2b9385acdd",
   "metadata": {},
   "outputs": [
    {
     "data": {
      "text/plain": [
       "torch.Size([10, 2])"
      ]
     },
     "execution_count": 12,
     "metadata": {},
     "output_type": "execute_result"
    }
   ],
   "source": [
    "prob_dist_bins = output_dict['intermediate_data']['tmp_bins']  ## Remove the heads\n",
    "prob_dist_bins__no_heads = prob_dist_bins.squeeze(1)\n",
    "prob_dist_bins__no_heads.shape"
   ]
  },
  {
   "cell_type": "code",
   "execution_count": 13,
   "id": "7f6493b8-00a5-48d9-94ea-c638dd9c7467",
   "metadata": {},
   "outputs": [],
   "source": [
    "#prob_dist_bins__no_heads"
   ]
  },
  {
   "cell_type": "code",
   "execution_count": null,
   "id": "9082129c-b7ff-4ae0-a312-1da9eb9bc03d",
   "metadata": {},
   "outputs": [],
   "source": []
  },
  {
   "cell_type": "code",
   "execution_count": null,
   "id": "daefa1e4-2fda-40f0-a56c-9124ee49e3e7",
   "metadata": {},
   "outputs": [],
   "source": []
  },
  {
   "cell_type": "markdown",
   "id": "4c3d9ade-8062-4811-8c08-592056dc9dc5",
   "metadata": {},
   "source": [
    "### 2.3. Define the barplot routine to visualize the probability tensor\n"
   ]
  },
  {
   "cell_type": "code",
   "execution_count": 14,
   "id": "775e05ea-b1af-4522-88f5-f304a83e5dd8",
   "metadata": {},
   "outputs": [
    {
     "data": {
      "image/png": "[encoded data removed]",
      "text/plain": [
       "<Figure size 1000x600 with 1 Axes>"
      ]
     },
     "metadata": {},
     "output_type": "display_data"
    }
   ],
   "source": [
    "## Make the display tensor and labels\n",
    "display_label_list = label_list + ['Total population']\n",
    "display_tensor = torch.cat([prob_dist_by_label_tensor, prob_dist_for_total_population_tensor.unsqueeze(0)], dim=0)\n",
    "\n",
    "## Plot the probability distributions\n",
    "plot_tensor_bars(display_tensor, title='Soft-binned Probability Distributions by label', \n",
    "                 separate_plots=False, labels=display_label_list)"
   ]
  },
  {
   "cell_type": "code",
   "execution_count": null,
   "id": "97adda65-ba88-414d-91a6-7f5ac8d975c5",
   "metadata": {},
   "outputs": [],
   "source": []
  },
  {
   "cell_type": "code",
   "execution_count": null,
   "id": "3552ae96-598b-4c39-857a-b5d64ccd2426",
   "metadata": {},
   "outputs": [],
   "source": []
  },
  {
   "cell_type": "code",
   "execution_count": null,
   "id": "360d62c0-96a0-4c54-ae57-96a1a9917faa",
   "metadata": {},
   "outputs": [],
   "source": []
  },
  {
   "cell_type": "code",
   "execution_count": null,
   "id": "77dbf891-3a40-4df1-b89e-ebf0b8ebcbcc",
   "metadata": {},
   "outputs": [],
   "source": []
  },
  {
   "cell_type": "code",
   "execution_count": null,
   "id": "74e294ec-1a12-4430-a4c0-a69ce80e896c",
   "metadata": {},
   "outputs": [],
   "source": []
  },
  {
   "cell_type": "code",
   "execution_count": null,
   "id": "7acafa43-289d-40b8-b132-9ebb7ab0405e",
   "metadata": {},
   "outputs": [],
   "source": []
  },
  {
   "cell_type": "code",
   "execution_count": null,
   "id": "3a907c89-667b-4052-970a-c0c3c752919e",
   "metadata": {},
   "outputs": [],
   "source": []
  },
  {
   "cell_type": "code",
   "execution_count": null,
   "id": "1c6e6dba-23e2-4336-8e1d-8fa7c11163ee",
   "metadata": {},
   "outputs": [],
   "source": []
  }
 ],
 "metadata": {
  "kernelspec": {
   "display_name": "Python (Poetry - nam_entropy_env)",
   "language": "python",
   "name": "nam_entropy_env"
  },
  "language_info": {
   "codemirror_mode": {
    "name": "ipython",
    "version": 3
   },
   "file_extension": ".py",
   "mimetype": "text/x-python",
   "name": "python",
   "nbconvert_exporter": "python",
   "pygments_lexer": "ipython3",
   "version": "3.13.7"
  }
 },
 "nbformat": 4,
 "nbformat_minor": 5
}
