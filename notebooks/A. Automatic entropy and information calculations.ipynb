{
 "cells": [
  {
   "cell_type": "markdown",
   "id": "95c20b53-d6d6-4e5a-9f56-4f0d98bdd42f",
   "metadata": {},
   "source": [
    "# Automatic entropy and information calculations -- Demo Notebook"
   ]
  },
  {
   "cell_type": "markdown",
   "id": "7e429a71-6229-4100-98ec-db298387f9f5",
   "metadata": {},
   "source": [
    "## Outline\n",
    "\n",
    "0. Imports\n",
    "1. Create Data and Compute Entropy via interactive interface\n"
   ]
  },
  {
   "cell_type": "code",
   "execution_count": null,
   "id": "162d7ec6-e592-4c34-b0ba-7c2e23c6029c",
   "metadata": {},
   "outputs": [],
   "source": []
  },
  {
   "cell_type": "markdown",
   "id": "857cfc39-fbb7-4e48-a3ec-d2d35ccd0be1",
   "metadata": {},
   "source": [
    "## 0. Imports"
   ]
  },
  {
   "cell_type": "code",
   "execution_count": 1,
   "id": "4b51a137-f948-4a7c-bd5d-0ce47c4e09e1",
   "metadata": {},
   "outputs": [],
   "source": [
    "## Set the PYTHON package path\n",
    "import os, sys\n",
    "package_root = os.path.abspath('../src/')\n",
    "if package_root not in sys.path:\n",
    "    sys.path.insert(0, package_root)\n",
    "\n",
    "#package_root"
   ]
  },
  {
   "cell_type": "code",
   "execution_count": 2,
   "id": "8ec5b5cd-f6af-45ce-af3b-a2d6685f42bb",
   "metadata": {},
   "outputs": [],
   "source": [
    "## Import all routines from the src/nam_entropy/__init__.py file\n",
    "from nam_entropy import *"
   ]
  },
  {
   "cell_type": "code",
   "execution_count": null,
   "id": "5c22c4a7-8177-4f0f-8a82-eed4cb4c1936",
   "metadata": {},
   "outputs": [],
   "source": []
  },
  {
   "cell_type": "code",
   "execution_count": null,
   "id": "71b31102-6c26-44cf-95f7-41bbab140e02",
   "metadata": {},
   "outputs": [],
   "source": []
  },
  {
   "cell_type": "markdown",
   "id": "6c9f9a18-ea16-4a87-8677-96a40c4786bb",
   "metadata": {},
   "source": [
    "## 1. Create Data and Compute Entropy via Interactive Interface "
   ]
  },
  {
   "cell_type": "code",
   "execution_count": 3,
   "id": "86f193be-b2b5-466d-b1f3-fa08bed4f0b0",
   "metadata": {},
   "outputs": [
    {
     "data": {
      "application/vnd.jupyter.widget-view+json": {
       "model_id": "0c39293c0e9b4765bddcb85e4b4a8486",
       "version_major": 2,
       "version_minor": 0
      },
      "text/plain": [
       "VBox(children=(VBox(children=(HTML(value=\"<h3 style='text-align: center; color: #333;'>Integrated 2D Distribut…"
      ]
     },
     "metadata": {},
     "output_type": "display_data"
    }
   ],
   "source": [
    "widget = Integrated2DDistributionWidget()\n",
    "widget.display()"
   ]
  },
  {
   "cell_type": "code",
   "execution_count": null,
   "id": "8a1190d5-0d79-4653-9dc0-1f8cc6b02041",
   "metadata": {},
   "outputs": [],
   "source": []
  },
  {
   "cell_type": "code",
   "execution_count": null,
   "id": "ff547a3f-72e0-49c5-967b-379fe92940a7",
   "metadata": {},
   "outputs": [],
   "source": []
  }
 ],
 "metadata": {
  "kernelspec": {
   "display_name": "Python (Poetry - nam_entropy_env)",
   "language": "python",
   "name": "nam_entropy_env"
  },
  "language_info": {
   "codemirror_mode": {
    "name": "ipython",
    "version": 3
   },
   "file_extension": ".py",
   "mimetype": "text/x-python",
   "name": "python",
   "nbconvert_exporter": "python",
   "pygments_lexer": "ipython3",
   "version": "3.13.7"
  }
 },
 "nbformat": 4,
 "nbformat_minor": 5
}
